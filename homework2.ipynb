{
 "cells": [
  {
   "cell_type": "markdown",
   "metadata": {},
   "source": [
    "#Homework2"
   ]
  },
  {
   "cell_type": "code",
   "execution_count": null,
   "metadata": {},
   "outputs": [],
   "source": [
    "this homework basic on teacher's work-'05 CDL Analysis'"
   ]
  },
  {
   "cell_type": "code",
   "execution_count": null,
   "metadata": {},
   "outputs": [],
   "source": [
    "import numpy as np\n",
    "import matplotlib.pyplot as plt\n",
    "import geopandas\n",
    "import pyproj\n",
    "import rasterio\n",
    "import rasterstats\n",
    "import pandas as pd\n",
    "import json\n",
    "from rasterio.mask import mask\n",
    "from rasterio.plot import show\n",
    "import matplotlib.colors as pltc\n",
    "from matplotlib.patches import Patch\n",
    "from matplotlib.lines import Line2D\n",
    "import matplotlib\n",
    "from rasterio.warp import calculate_default_transform, reproject, Resampling\n",
    "from rasterstats import zonal_stats"
   ]
  },
  {
   "cell_type": "code",
   "execution_count": null,
   "metadata": {},
   "outputs": [],
   "source": [
    "data_dir =\"C:\\Users\\27354\\Desktop\\California\\Central_Valley_CDL_2017_clip.tif\"\n",
    "data_dir =\"C:\\Users\\27354\\Desktop\\California\\Central_Valley_CDL_2018_clip.tif\""
   ]
  },
  {
   "cell_type": "code",
   "execution_count": null,
   "metadata": {},
   "outputs": [],
   "source": [
    "\n",
    "cdl_17 = rasterio.open(data_dir + \"Central_Valley_CDL_2017_clip.tif\")\n",
    "cdl_18 = rasterio.open(data_dir + \"Central_Valley_CDL_2018_clip.tif\")"
   ]
  },
  {
   "cell_type": "code",
   "execution_count": null,
   "metadata": {},
   "outputs": [],
   "source": [
    "country = geopandas.read_file(data_dir+\"us_states.json\")"
   ]
  },
  {
   "cell_type": "code",
   "execution_count": null,
   "metadata": {},
   "outputs": [],
   "source": [
    "cdls = {17:cdl_17,18:cdl_18}"
   ]
  },
  {
   "cell_type": "code",
   "execution_count": null,
   "metadata": {},
   "outputs": [],
   "source": [
    "cdl_18.crs == country.crs"
   ]
  },
  {
   "cell_type": "code",
   "execution_count": null,
   "metadata": {},
   "outputs": [],
   "source": [
    "# Reproject\n",
    "area = country.to_crs(cdl_17.crs)"
   ]
  },
  {
   "cell_type": "code",
   "execution_count": null,
   "metadata": {},
   "outputs": [],
   "source": [
    "area = country[(country.NAME!=\"Central Valley\")]"
   ]
  },
  {
   "cell_type": "code",
   "execution_count": null,
   "metadata": {},
   "outputs": [],
   "source": [
    "fig, ax = plt.subplots(figsize=(15, 15))\n",
    "rasterio.plot.show(cdl_17, ax=ax)\n",
    "area.plot(ax=ax, facecolor='none', edgecolor='black')"
   ]
  },
  {
   "cell_type": "code",
   "execution_count": null,
   "metadata": {},
   "outputs": [],
   "source": [
    "def getFeatures(gdf):\n",
    "    import json\n",
    "    return [json.loads(gdf.to_json())['features'][0]['Central Valley']]"
   ]
  },
  {
   "cell_type": "code",
   "execution_count": null,
   "metadata": {},
   "outputs": [],
   "source": [
    "L_coords = getFeatures(country[(country[\"NAME\"] == \"Central Valley\")])\n",
    "\n",
    "coords = \\\n",
    "{\"IL\": IL_coords}\n",
    "\n",
    "img_out, img_transform = mask(cdl_17,IL_coords) "
   ]
  },
  {
   "cell_type": "code",
   "execution_count": null,
   "metadata": {},
   "outputs": [],
   "source": [
    "plt.imshow(img_out[0,:,:])"
   ]
  },
  {
   "cell_type": "code",
   "execution_count": null,
   "metadata": {},
   "outputs": [],
   "source": [
    "plt.plot((img_out[0,:,:]!=0).sum(axis=0))"
   ]
  },
  {
   "cell_type": "code",
   "execution_count": null,
   "metadata": {},
   "outputs": [],
   "source": [
    "plt.imshow(img_out[0,:,:15000])"
   ]
  },
  {
   "cell_type": "code",
   "execution_count": null,
   "metadata": {},
   "outputs": [],
   "source": [
    "for year,cdl in cdls.items():\n",
    "    for k,v in coords.items():\n",
    "        # Transform with the mask\n",
    "        img_out, img_transform = mask(cdl,v) \n",
    "        \n",
    "        # Cut out the right side of the image.\n",
    "        img_out = img_out[:,:,:15000]\n",
    "        \n",
    "        # Metadata\n",
    "        out_meta = cdl.meta.copy()\n",
    "        out_meta['height'] = img_out.shape[1]\n",
    "        out_meta['width'] = img_out.shape[2]\n",
    "        out_meta['transform'] = img_transform\n",
    "        \n",
    "        # This field will tell you which pixel values mean \"no data\" and thus are transparent.\n",
    "        out_meta['nodata'] = 0\n",
    "        \n",
    "        with rasterio.open(\"./raster_\"+k+\"_\"+str(year)+\".tif\", \"w\", **out_meta) as dest:\n",
    "            dest.write(img_out)"
   ]
  },
  {
   "cell_type": "code",
   "execution_count": null,
   "metadata": {},
   "outputs": [],
   "source": [
    "IL_17 = rasterio.open(\"./raster_IL_17.tif\")\n",
    "IL_18 = rasterio.open(\"./raster_IL_18.tif\")"
   ]
  },
  {
   "cell_type": "code",
   "execution_count": null,
   "metadata": {},
   "outputs": [],
   "source": [
    "fig, ax = plt.subplots(figsize=(5, 5))\n",
    "rasterio.plot.show(IL_17, ax=ax)\n",
    "country[country['NAME']==\"Illinois\"].plot(ax=ax, facecolor='none', edgecolor='black')"
   ]
  },
  {
   "cell_type": "code",
   "execution_count": null,
   "metadata": {},
   "outputs": [],
   "source": [
    "with open(\"CDL_dict.json\") as f:\n",
    "    pixel_names = json.load(f)[0]"
   ]
  },
  {
   "cell_type": "code",
   "execution_count": null,
   "metadata": {},
   "outputs": [],
   "source": [
    "rasters = {}\n",
    "for year in cdls.keys():\n",
    "    rasters[year] = {}\n",
    "    for state in coords.keys():\n",
    "        rasters[year][state] = rasterio.open(\"./raster_\"+state+\"_\"+str(year)+\".tif\")"
   ]
  },
  {
   "cell_type": "code",
   "execution_count": null,
   "metadata": {},
   "outputs": [],
   "source": [
    "r17_array = rasters[17]['IL'].read(1)\n",
    "pixels = pd.Series(r17_array.flatten())\n",
    "pixels = pixels[pixels!=0]\n",
    "\n",
    "pixel_counts = pixels.value_counts()\n",
    "pixel_counts.head(10)"
   ]
  },
  {
   "cell_type": "code",
   "execution_count": null,
   "metadata": {},
   "outputs": [],
   "source": [
    "pixel_ixs = pd.Series(pixel_counts.index).astype(str)\n",
    "pixel_counts.index = pixel_ixs.replace('Crops (including Fallowed Land)')\n",
    "pixel_counts.index = pixel_ixs.replace('forest')\n",
    "pixel_counts.index = pixel_ixs.replace('Grassland/Pasture')\n",
    "pixel_counts.index = pixel_ixs.replace(\"Shrubland\")\n",
    "pixel_counts.index = pixel_ixs.replace('Developed Land')\n",
    "pixel_counts.index = pixel_ixs.replace('Other')\n",
    "pixel_counts.head(10)"
   ]
  },
  {
   "cell_type": "code",
   "execution_count": null,
   "metadata": {},
   "outputs": [],
   "source": [
    "(pixel_counts/pixel_counts.sum()*100).head(10)"
   ]
  },
  {
   "cell_type": "code",
   "execution_count": null,
   "metadata": {},
   "outputs": [],
   "source": [
    "pixel_counts = pixels.value_counts(normalize=True)*100\n",
    "\n",
    "pixel_ixs = pd.Series(pixel_counts.index).astype(str)\n",
    "\n",
    "pixel_counts.index = pixel_ixs.replace(pixel_names)\n",
    "\n",
    "pixel_counts.head(10)"
   ]
  },
  {
   "cell_type": "code",
   "execution_count": null,
   "metadata": {},
   "outputs": [],
   "source": [
    "pixel_counts.plot(kind=\"pie\")"
   ]
  },
  {
   "cell_type": "code",
   "execution_count": null,
   "metadata": {},
   "outputs": [],
   "source": [
    "condensed_counts = pixel_counts.iloc[:4]\n",
    "condensed_counts.loc[\"Other\"] = pixel_counts.iloc[4:].sum()\n",
    "condensed_counts.plot(kind=\"pie\")"
   ]
  },
  {
   "cell_type": "code",
   "execution_count": null,
   "metadata": {},
   "outputs": [],
   "source": [
    "def recode_raster_binary(raster,array,img_transform,name):\n",
    "    out_meta = raster.meta.copy()\n",
    "    array = array[np.newaxis,:,:]\n",
    "    out_meta['height'] = array.shape[1]\n",
    "    out_meta['width'] = array.shape[2]\n",
    "    out_meta['transform'] = img_transform\n",
    "    \n",
    "    with rasterio.open(name, \"w\", **out_meta) as dest:\n",
    "        dest.write(array.astype(rasterio.uint8))"
   ]
  },
  {
   "cell_type": "code",
   "execution_count": null,
   "metadata": {},
   "outputs": [],
   "source": [
    "area_labels = {1:\"cornland\",5:\"fallowland\"}"
   ]
  },
  {
   "cell_type": "code",
   "execution_count": null,
   "metadata": {},
   "outputs": [],
   "source": [
    "cropland_rasters = {}\n",
    "\n",
    "# For each state\n",
    "for state in coords.keys():\n",
    "    cropland_rasters[state] = {}\n",
    "    # For each CDL year:\n",
    "    for year in cdls.keys():\n",
    "        cropland_rasters[state][year] = {}\n",
    "        # For each crop:\n",
    "        for val,crop in area_labels.items():\n",
    "            # Read in the band and make a binary array:\n",
    "            array = (rasters[year][state].read(1)==val).astype(np.int8)\n",
    "            \n",
    "            # Write it out using our function\n",
    "            recode_raster_binary(cdl,array,img_transform,\"./raster_\"+state+\"_\"+str(year)+\"_\"+crop+\".tif\")\n",
    "\n",
    "            # Store it in this dictionary:\n",
    "            cropland_rasters[state][year][crop] = rasterio.open(\"./raster_\"+state+\"_\"+str(year)+\"_\"+crop+\".tif\")"
   ]
  },
  {
   "cell_type": "code",
   "execution_count": null,
   "metadata": {},
   "outputs": [],
   "source": [
    "# Make some colormaps first:\n",
    "\n",
    "cmap_cropland = matplotlib.colors.ListedColormap(['white',\"C0\"])\n",
    "cmap_fallowland = matplotlib.colors.ListedColormap(['white',\"darkgreen\"])"
   ]
  },
  {
   "cell_type": "code",
   "execution_count": null,
   "metadata": {},
   "outputs": [],
   "source": [
    "fig, ax = plt.subplots(2,2,figsize=(10, 15))\n",
    "\n",
    "# Cornland 2017\n",
    "rasterio.plot.show(cropland_rasters[\"IL\"][17][\"cornland\"], ax=ax[0,0],cmap=cmap_cropland)\n",
    "ax[0,0].set_title(\"Corn Area, 2017\")\n",
    "country[country['NAME']==\"valley\"].plot(ax=ax[0,0], facecolor='none', edgecolor='black')\n",
    "\n",
    "# fallowland 2017\n",
    "rasterio.plot.show(cropland_rasters[\"IL\"][17][\"fallowland\"], ax=ax[0,1],cmap=cmap_fallowland)\n",
    "ax[0,1].set_title(\"fallowland, 2017\")\n",
    "country[country['NAME']==\"valley\"].plot(ax=ax[0,1], facecolor='none', edgecolor='black')\n",
    "\n",
    "# Cornland 2017\n",
    "rasterio.plot.show(cropland_rasters[\"IL\"][18][\"cornland\"], ax=ax[1,0],cmap=cmap_cropland)\n",
    "ax[1,0].set_title(\"Corn Area, 2018\")\n",
    "country[country['NAME']==\"valley\"].plot(ax=ax[1,0], facecolor='none', edgecolor='black')\n",
    "\n",
    "# fallowland 2018\n",
    "rasterio.plot.show(cropland_rasters[\"IL\"][18][\"fallowland\"], ax=ax[1,1],cmap=cmap_fallowland)\n",
    "ax[1,1].set_title(\"fallowland, 2018\")\n",
    "country[country['NAME']==\"valley\"].plot(ax=ax[1,1], facecolor='none', edgecolor='black')"
   ]
  },
  {
   "cell_type": "code",
   "execution_count": null,
   "metadata": {},
   "outputs": [],
   "source": [
    "\n",
    "IL_18 = np.concatenate([rasterio.open(\"./raster_IL_18_cornland.tif\").read(1)[np.newaxis,:,:], \n",
    "                        rasterio.open(\"./raster_IL_18_fallowland.tif\").read(1)[np.newaxis,:,:]],axis=0) \n",
    "\n",
    "IL_17 = np.concatenate([rasterio.open(\"./raster_IL_17_cornland.tif\").read(1)[np.newaxis,:,:],\n",
    "                        rasterio.open(\"./raster_IL_17_fallowland.tif\").read(1)[np.newaxis,:,:]],axis=0)"
   ]
  },
  {
   "cell_type": "code",
   "execution_count": null,
   "metadata": {},
   "outputs": [],
   "source": [
    "# Assign a one to anything monocropped\n",
    "cornland_to_cornland = ((IL_18[0,:,:]==1)&(IL_17[0,:,:]==1))*1\n",
    "fallowland_to_fallowland = ((IL_18[1,:,:]==1)&(IL_17[1,:,:]==1))*1\n",
    "\n",
    "# Assign a two to anything that rotated\n",
    "fallowland_to_cornland = ((IL_18[0,:,:]==1)&(IL_17[1,:,:]==1))*2\n",
    "cornland_to_fallowland = ((IL_18[1,:,:]==1)&(IL_17[0,:,:]==1))*2"
   ]
  },
  {
   "cell_type": "code",
   "execution_count": null,
   "metadata": {},
   "outputs": [],
   "source": [
    "Rotated = cornland_to_cornland + fallowland_to_fallowland + fallowland_to_cornland + cornland_to_fallowland"
   ]
  },
  {
   "cell_type": "code",
   "execution_count": null,
   "metadata": {},
   "outputs": [],
   "source": [
    "# First put it in a raster format:\n",
    "recode_raster_binary(cdl_17,Rotated,img_transform,\"./raster_IL_rotation.tif\")\n",
    "\n",
    "Rotated_Raster = rasterio.open(\"./raster_IL_rotation.tif\")"
   ]
  },
  {
   "cell_type": "code",
   "execution_count": null,
   "metadata": {},
   "outputs": [],
   "source": [
    "labels = {1:\"Non-Rotated\",\n",
    "          2:\"Rotated\"}\n",
    "\n",
    "cmap = matplotlib.colors.ListedColormap(['white', \"C3\",\"C0\"])\n",
    "\n",
    "patches =[mpatches.Patch(color=cmap(i),label=labels[i]) for i in labels.keys()]"
   ]
  },
  {
   "cell_type": "code",
   "execution_count": null,
   "metadata": {},
   "outputs": [],
   "source": [
    "fig, ax = plt.subplots(figsize=(15, 15))\n",
    "rasterio.plot.show(Rotated_Raster,cmap=cmap,ax=ax)\n",
    "country[country['NAME']==\"valley\"].plot(ax=ax, facecolor='none', edgecolor='black')\n",
    "plt.legend(handles=patches,fontsize=16)\n",
    "plt.axis('off')"
   ]
  },
  {
   "cell_type": "code",
   "execution_count": null,
   "metadata": {},
   "outputs": [],
   "source": [
    "# As before:\n",
    "cornland_to_cornland = ((IL_18[0,:,:]==1)&(IL_17[0,:,:]==1))*1\n",
    "fallowland_to_fallowland = ((IL_18[1,:,:]==1)&(IL_17[1,:,:]==1))*2\n",
    "fallowland_to_cornland = ((IL_18[0,:,:]==1)&(IL_17[1,:,:]==1))*3\n",
    "cornland_to_fallowland = ((IL_18[1,:,:]==1)&(IL_17[0,:,:]==1))*4"
   ]
  },
  {
   "cell_type": "code",
   "execution_count": null,
   "metadata": {},
   "outputs": [],
   "source": [
    "Rotated_Cats = cornland_to_cornland + fallowland_to_fallowland + fallowland_to_cornland + cornland_to_fallowland"
   ]
  },
  {
   "cell_type": "code",
   "execution_count": null,
   "metadata": {},
   "outputs": [],
   "source": [
    "for i in range(Rotation.shape[0]):\n",
    "    for j in range(Rotation.shape[1]):\n",
    "        if (IL_18[0,i,j]==1)&(IL_17[0,i,j]==1):\n",
    "            Rotation[i,j] = 1\n",
    "        elif (IL_18[1,i,j]==1)&(IL_17[1,i,j]==1):\n",
    "            Rotation[i,j] = 2\n",
    "        elif (IL_18[0,i,j]==1)&(IL_17[1,i,j]==1):\n",
    "            Rotation[i,j] = 3\n",
    "        elif (IL_18[1,i,j]==1)&(IL_17[0,i,j]==1):\n",
    "            Rotation[i,j] = 4"
   ]
  },
  {
   "cell_type": "code",
   "execution_count": null,
   "metadata": {},
   "outputs": [],
   "source": [
    "recode_raster_binary(cdl_17,Rotated_Cats,\"./raster_IL_rotation_cats.tif\")\n",
    "\n",
    "Rotated_Cat_Raster = rasterio.open(\"./raster_IL_rotation_cats.tif\")"
   ]
  },
  {
   "cell_type": "code",
   "execution_count": null,
   "metadata": {},
   "outputs": [],
   "source": [
    "cmap = matplotlib.colors.ListedColormap(['white',\"C1\",\"C3\", 'C2', 'C0'])\n",
    "\n",
    "labels = {1:\"Cornland to Cornland\",\n",
    "          2:\"Fallowland to Fallowland\",\n",
    "          3:\"Fallowland to Cornland\",\n",
    "          4:\"Cornland to Fallowland\"}\n",
    "\n",
    "patches =[mpatches.Patch(color=cmap(i),label=labels[i]) for i in labels.keys()]"
   ]
  },
  {
   "cell_type": "code",
   "execution_count": null,
   "metadata": {},
   "outputs": [],
   "source": [
    "fig, ax = plt.subplots(figsize=(15, 15))\n",
    "rasterio.plot.show(Rotated_Cat_Raster,cmap=cmap,ax=ax)\n",
    "country[country['NAME']==\"Valley\"].plot(ax=ax, facecolor='none', edgecolor='black')\n",
    "plt.legend(handles=patches,fontsize=12,loc=(0,.8))\n",
    "plt.axis('off')"
   ]
  },
  {
   "cell_type": "code",
   "execution_count": null,
   "metadata": {},
   "outputs": [],
   "source": [
    "tated_Series = pd.Series(Rotated_Cats.flatten())\n",
    "\n",
    "top_transitions = Rotated_Series[Rotated_Series!=0].value_counts(normalize=True)*100\n",
    "\n",
    "labels = {\"1\":\"Cornland to Cornland\",\n",
    "          \"2\":\"Fallowland to Fallowland\",\n",
    "          \"3\":\"Fallowland to Fallowland\",\n",
    "          \"4\":\"Cornland to Fallowland\"}\n",
    "\n",
    "top_transitions.index = pd.Series(top_transitions.index).astype(str).replace(labels)\n",
    "\n",
    "top_transitions"
   ]
  },
  {
   "cell_type": "markdown",
   "metadata": {},
   "source": [
    "What data sources you would need in addition to the data you have now.\n",
    "To answer this question，Basically, I need the rainfall map of the Valley in California in 2017. More accurately, I need the amount of rainfall and the contour map of the Valley."
   ]
  },
  {
   "cell_type": "markdown",
   "metadata": {},
   "source": [
    "How you would manipulate the data.\n",
    "First,I will read these data,because I want to know the rainfall map how to change the phenomenon that fallow land to crop land.Then,I will compare rainfall map and CDL in 2017, to ensure that rainfall truely infact the land use.Third, I will use the data to refine the changes in the specific use of land. Finally, I will use the data to calculate the impact ratio of rainfall on land transformation, and make appropriate charts based on these data."
   ]
  },
  {
   "cell_type": "markdown",
   "metadata": {},
   "source": [
    "What statistics you would calculate or model you would run on this data\n",
    "SWAT model."
   ]
  },
  {
   "cell_type": "markdown",
   "metadata": {},
   "source": [
    "How you might present your findings.\n",
    "I will use PPT to show my findings, more I also wants to has a speech to show how to rational use of land resources."
   ]
  },
  {
   "cell_type": "markdown",
   "metadata": {},
   "source": [
    "what factors would make it difficult to accurately answer this question? List three and explain why they might make answering the question difficult. \n",
    "Databases is too few. And too hard to find data, especially different kinds of data.\n",
    "May we choose the model is not accurate.\n",
    "Accurate calculation requires practical investigation\n",
    "So, these will make answering the question difficult."
   ]
  }
 ],
 "metadata": {
  "interpreter": {
   "hash": "b0ba8836495a628439bf9efd6fd3e5cbcc83c2ba4905102e0fb171818fc2bec4"
  },
  "kernelspec": {
   "display_name": "Python 3.9.0 64-bit",
   "language": "python",
   "name": "python3"
  },
  "language_info": {
   "name": "python",
   "version": "3.9.0"
  },
  "orig_nbformat": 4
 },
 "nbformat": 4,
 "nbformat_minor": 2
}
